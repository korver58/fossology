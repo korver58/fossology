{
 "cells": [
  {
   "cell_type": "code",
   "execution_count": null,
   "metadata": {},
   "outputs": [],
   "source": [
    "import datetime\n",
    "from typing import Any, Dict, List\n",
    "\n",
    "import requests\n",
    "from fossology_client import RestApiClient"
   ]
  },
  {
   "cell_type": "code",
   "execution_count": null,
   "metadata": {},
   "outputs": [],
   "source": [
    "url = \"http://localhost:8081/repo/api/v1\"\n",
    "token = \"\"\n",
    "upload_file = \"XXX.zip\"\n",
    "\n",
    "bd_api = RestApiClient(url)\n",
    "\n",
    "bd_api.set_auth_token(token)\n",
    "bd_api.get(\"jobs\")"
   ]
  },
  {
   "cell_type": "code",
   "execution_count": null,
   "metadata": {},
   "outputs": [],
   "source": [
    "folder_name = \"test\"\n",
    "bd_api.post(\"folders\", headers={\"folderName\": f\"{folder_name}\", \"parentFolder\": \"1\"})\n",
    "ret_list = bd_api.get(\"folders\")\n",
    "\n",
    "# test_id = next((item['id'] for item in ret_list if item['name'] == 'test'), None)\n",
    "test_ids = [item[\"id\"] for item in ret_list if item[\"name\"] == \"test\"]\n",
    "test_ids[0]\n",
    "\n",
    "headers = {\n",
    "    \"folderId\": f\"{test_ids[0]}\",\n",
    "    \"uploadDescription\": \"created by REST\",\n",
    "    \"uploadType\": \"file\",\n",
    "    \"public\": \"public\",\n",
    "}\n",
    "\n",
    "with open(upload_file, \"rb\") as file:\n",
    "    files = {\"fileInput\": (upload_file, file, \"application/x-zip-compressed\")}\n",
    "    bd_api.post(\"uploads\", headers=headers, files=files)"
   ]
  }
 ],
 "metadata": {
  "kernelspec": {
   "display_name": "venv",
   "language": "python",
   "name": "python3"
  },
  "language_info": {
   "codemirror_mode": {
    "name": "ipython",
    "version": 3
   },
   "file_extension": ".py",
   "mimetype": "text/x-python",
   "name": "python",
   "nbconvert_exporter": "python",
   "pygments_lexer": "ipython3",
   "version": "3.10.12"
  }
 },
 "nbformat": 4,
 "nbformat_minor": 2
}
