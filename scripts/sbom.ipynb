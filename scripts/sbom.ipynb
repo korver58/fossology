{
 "cells": [
  {
   "cell_type": "code",
   "execution_count": null,
   "metadata": {},
   "outputs": [],
   "source": [
    "import fossology"
   ]
  },
  {
   "cell_type": "code",
   "execution_count": null,
   "metadata": {},
   "outputs": [],
   "source": [
    "FOSSOLOGY_SERVER = \"http://localhost:8081/repo/\"\n",
    "FOSSOLOGY_USER = \"fossy\"\n",
    "FOSSOLOGY_PASSWORD = \"fossy\"\n",
    "TOKEN_NAME = \"dsafas\"\n",
    "\n",
    "token = fossology.fossology_token(\n",
    "    FOSSOLOGY_SERVER, FOSSOLOGY_USER, FOSSOLOGY_PASSWORD, TOKEN_NAME, fossology.enums.TokenScope.WRITE, version=\"v1\"\n",
    ")\n",
    "token"
   ]
  },
  {
   "cell_type": "code",
   "execution_count": null,
   "metadata": {},
   "outputs": [],
   "source": [
    "FOSSOLOGY_SERVER = \"http://localhost:8081/repo/\"\n",
    "FOSSOLOGY_USER = \"fossy\"\n",
    "FOSSOLOGY_PASSWORD = \"fossy\"\n",
    "TOKEN_NAME = \"\"\n",
    "token = \"\""
   ]
  },
  {
   "cell_type": "code",
   "execution_count": null,
   "metadata": {},
   "outputs": [],
   "source": [
    "# By default version v1 of the API will be used\n",
    "foss = fossology.Fossology(FOSSOLOGY_SERVER, token, version=\"v1\")\n",
    "print(f\"Logged in as user {foss.user.name}\")"
   ]
  },
  {
   "cell_type": "code",
   "execution_count": null,
   "metadata": {},
   "outputs": [],
   "source": [
    "foss = fossology.Fossology(\n",
    "    url=FOSSOLOGY_SERVER, user=FOSSOLOGY_USER, password=FOSSOLOGY_PASSWORD, ssl_verify=False  # SSL検証を無効にする\n",
    ")"
   ]
  }
 ],
 "metadata": {
  "kernelspec": {
   "display_name": "venv",
   "language": "python",
   "name": "python3"
  },
  "language_info": {
   "codemirror_mode": {
    "name": "ipython",
    "version": 3
   },
   "file_extension": ".py",
   "mimetype": "text/x-python",
   "name": "python",
   "nbconvert_exporter": "python",
   "pygments_lexer": "ipython3",
   "version": "3.10.12"
  }
 },
 "nbformat": 4,
 "nbformat_minor": 2
}
